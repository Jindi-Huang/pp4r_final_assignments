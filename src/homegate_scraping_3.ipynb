{
 "cells": [
  {
   "cell_type": "markdown",
   "metadata": {},
   "source": [
    "## Homegate scraping with selenium"
   ]
  },
  {
   "cell_type": "markdown",
   "metadata": {},
   "source": [
    "Hopefully this works better and doesn't have inconsistencies."
   ]
  },
  {
   "cell_type": "code",
   "execution_count": 1,
   "metadata": {},
   "outputs": [],
   "source": [
    "# Preliminary\n",
    "import pandas as pd\n",
    "import requests\n",
    "import re\n",
    "import time\n",
    "from bs4 import BeautifulSoup\n",
    "import os\n",
    "from selenium import webdriver\n",
    "import time\n",
    "from selenium.webdriver.common.by import By\n",
    "\n",
    "\n",
    "os.chdir('/Users/drutna/Documents/pp4rs/assignment/pp4r_final_assignments') # change this to your path"
   ]
  },
  {
   "cell_type": "code",
   "execution_count": 2,
   "metadata": {},
   "outputs": [],
   "source": [
    "chromedriver_name = 'chromedriver'"
   ]
  },
  {
   "cell_type": "markdown",
   "metadata": {},
   "source": [
    "Trying with just one site first:"
   ]
  },
  {
   "cell_type": "code",
   "execution_count": 25,
   "metadata": {},
   "outputs": [
    {
     "data": {
      "text/html": [
       "<div>\n",
       "<style scoped>\n",
       "    .dataframe tbody tr th:only-of-type {\n",
       "        vertical-align: middle;\n",
       "    }\n",
       "\n",
       "    .dataframe tbody tr th {\n",
       "        vertical-align: top;\n",
       "    }\n",
       "\n",
       "    .dataframe thead th {\n",
       "        text-align: right;\n",
       "    }\n",
       "</style>\n",
       "<table border=\"1\" class=\"dataframe\">\n",
       "  <thead>\n",
       "    <tr style=\"text-align: right;\">\n",
       "      <th></th>\n",
       "      <th>Net rent:</th>\n",
       "      <th>Add'l expenses:</th>\n",
       "      <th>Rent:</th>\n",
       "      <th>Available from:</th>\n",
       "      <th>Type:</th>\n",
       "      <th>No. of rooms:</th>\n",
       "      <th>Floor:</th>\n",
       "      <th>Surface living:</th>\n",
       "      <th>Listing ID</th>\n",
       "      <th>Object ref.</th>\n",
       "      <th>Address</th>\n",
       "    </tr>\n",
       "  </thead>\n",
       "  <tbody>\n",
       "    <tr>\n",
       "      <th>0</th>\n",
       "      <td>CHF 3,500.–</td>\n",
       "      <td>CHF 450.–</td>\n",
       "      <td>CHF 3,950.–</td>\n",
       "      <td>01.11.2023</td>\n",
       "      <td>Apartment</td>\n",
       "      <td>3.5</td>\n",
       "      <td>1</td>\n",
       "      <td>114 m2</td>\n",
       "      <td>3003551480</td>\n",
       "      <td>iaao5.0hfm2</td>\n",
       "      <td>Käferholzstrasse 32, 8057 Zürich</td>\n",
       "    </tr>\n",
       "  </tbody>\n",
       "</table>\n",
       "</div>"
      ],
      "text/plain": [
       "     Net rent: Add'l expenses:        Rent: Available from:      Type:  \\\n",
       "0  CHF 3,500.–       CHF 450.–  CHF 3,950.–      01.11.2023  Apartment   \n",
       "\n",
       "  No. of rooms: Floor: Surface living:  Listing ID  Object ref.  \\\n",
       "0           3.5      1          114 m2  3003551480  iaao5.0hfm2   \n",
       "\n",
       "                            Address  \n",
       "0  Käferholzstrasse 32, 8057 Zürich  "
      ]
     },
     "execution_count": 25,
     "metadata": {},
     "output_type": "execute_result"
    }
   ],
   "source": [
    "browser = webdriver.Chrome()\n",
    "browser.get('https://www.homegate.ch/rent/3003551480')\n",
    "time.sleep(10)\n",
    "data = [dd.text for dd in browser.find_elements(By.TAG_NAME, 'dd')]\n",
    "categories = [dt.text for dt in browser.find_elements(By.TAG_NAME, 'dt')]\n",
    "df = pd.DataFrame([dict(zip(categories, data))])\n",
    "address = browser.find_element(By.CLASS_NAME, 'AddressDetails_addressDetails_wuB1A .AddressDetails_address_i3koO').text\n",
    "df['Address'] = address\n",
    "df"
   ]
  },
  {
   "cell_type": "markdown",
   "metadata": {},
   "source": [
    "This creates a nice dataframe with various data on the listing."
   ]
  },
  {
   "cell_type": "markdown",
   "metadata": {},
   "source": [
    "Trying with another test site:"
   ]
  },
  {
   "cell_type": "code",
   "execution_count": 26,
   "metadata": {},
   "outputs": [
    {
     "data": {
      "text/html": [
       "<div>\n",
       "<style scoped>\n",
       "    .dataframe tbody tr th:only-of-type {\n",
       "        vertical-align: middle;\n",
       "    }\n",
       "\n",
       "    .dataframe tbody tr th {\n",
       "        vertical-align: top;\n",
       "    }\n",
       "\n",
       "    .dataframe thead th {\n",
       "        text-align: right;\n",
       "    }\n",
       "</style>\n",
       "<table border=\"1\" class=\"dataframe\">\n",
       "  <thead>\n",
       "    <tr style=\"text-align: right;\">\n",
       "      <th></th>\n",
       "      <th>Net rent:</th>\n",
       "      <th>Add'l expenses:</th>\n",
       "      <th>Rent:</th>\n",
       "      <th>Available from:</th>\n",
       "      <th>Type:</th>\n",
       "      <th>No. of rooms:</th>\n",
       "      <th>Floor:</th>\n",
       "      <th>Number of floors:</th>\n",
       "      <th>Year built:</th>\n",
       "      <th>Listing ID</th>\n",
       "      <th>Object ref.</th>\n",
       "      <th>Address</th>\n",
       "    </tr>\n",
       "  </thead>\n",
       "  <tbody>\n",
       "    <tr>\n",
       "      <th>0</th>\n",
       "      <td>CHF 1,950.–</td>\n",
       "      <td>CHF 300.–</td>\n",
       "      <td>CHF 2,250.–</td>\n",
       "      <td>By agreement</td>\n",
       "      <td>Roof flat</td>\n",
       "      <td>3.5</td>\n",
       "      <td>2</td>\n",
       "      <td>2</td>\n",
       "      <td>1650</td>\n",
       "      <td>3003556313</td>\n",
       "      <td>ksw9m.b00oe</td>\n",
       "      <td>Unterdorfstrasse 15, 8105 Watt</td>\n",
       "    </tr>\n",
       "  </tbody>\n",
       "</table>\n",
       "</div>"
      ],
      "text/plain": [
       "     Net rent: Add'l expenses:        Rent: Available from:      Type:  \\\n",
       "0  CHF 1,950.–       CHF 300.–  CHF 2,250.–    By agreement  Roof flat   \n",
       "\n",
       "  No. of rooms: Floor: Number of floors: Year built:  Listing ID  Object ref.  \\\n",
       "0           3.5      2                 2        1650  3003556313  ksw9m.b00oe   \n",
       "\n",
       "                          Address  \n",
       "0  Unterdorfstrasse 15, 8105 Watt  "
      ]
     },
     "execution_count": 26,
     "metadata": {},
     "output_type": "execute_result"
    }
   ],
   "source": [
    "browser = webdriver.Chrome()\n",
    "browser.get('https://www.homegate.ch/rent/3003556313')\n",
    "time.sleep(10)\n",
    "data = [dd.text for dd in browser.find_elements(By.TAG_NAME, 'dd')]\n",
    "categories = [dt.text for dt in browser.find_elements(By.TAG_NAME, 'dt')]\n",
    "df = pd.DataFrame([dict(zip(categories, data))])\n",
    "address = browser.find_element(By.CLASS_NAME, 'AddressDetails_addressDetails_wuB1A .AddressDetails_address_i3koO').text\n",
    "df['Address'] = address\n",
    "df"
   ]
  },
  {
   "cell_type": "markdown",
   "metadata": {},
   "source": [
    "Seems to work. Now with multiple listings..."
   ]
  },
  {
   "cell_type": "code",
   "execution_count": null,
   "metadata": {},
   "outputs": [],
   "source": []
  }
 ],
 "metadata": {
  "kernelspec": {
   "display_name": "assignment",
   "language": "python",
   "name": "python3"
  },
  "language_info": {
   "codemirror_mode": {
    "name": "ipython",
    "version": 3
   },
   "file_extension": ".py",
   "mimetype": "text/x-python",
   "name": "python",
   "nbconvert_exporter": "python",
   "pygments_lexer": "ipython3",
   "version": "3.11.5"
  },
  "orig_nbformat": 4
 },
 "nbformat": 4,
 "nbformat_minor": 2
}
